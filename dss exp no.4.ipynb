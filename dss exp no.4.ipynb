{
 "cells": [
  {
   "cell_type": "markdown",
   "id": "e4cf4457",
   "metadata": {},
   "source": [
    "# Central tendency of measures mean,mode,median"
   ]
  },
  {
   "cell_type": "code",
   "execution_count": 1,
   "id": "34db1725",
   "metadata": {},
   "outputs": [],
   "source": [
    "#Aim : to perform operations on central tendency of measures"
   ]
  },
  {
   "cell_type": "code",
   "execution_count": 2,
   "id": "8eded48f",
   "metadata": {},
   "outputs": [],
   "source": [
    "#Name : Ruchita Anil Kamble\n",
    "#Roll no : 56\n",
    "#Sec : A"
   ]
  },
  {
   "cell_type": "code",
   "execution_count": 3,
   "id": "93baf96b",
   "metadata": {},
   "outputs": [],
   "source": [
    "Age={21,21,21,21,22,22,22,22,23,23,23,21,23,21,23,20,20,20,21}"
   ]
  },
  {
   "cell_type": "code",
   "execution_count": 4,
   "id": "71b28a6f",
   "metadata": {},
   "outputs": [
    {
     "data": {
      "text/plain": [
       "{20, 21, 22, 23}"
      ]
     },
     "execution_count": 4,
     "metadata": {},
     "output_type": "execute_result"
    }
   ],
   "source": [
    "Age"
   ]
  },
  {
   "cell_type": "code",
   "execution_count": 5,
   "id": "ab2f8b0d",
   "metadata": {},
   "outputs": [],
   "source": [
    "import statistics"
   ]
  },
  {
   "cell_type": "code",
   "execution_count": 6,
   "id": "b11080a8",
   "metadata": {},
   "outputs": [],
   "source": [
    "Mean=statistics.mean(Age)"
   ]
  },
  {
   "cell_type": "code",
   "execution_count": 8,
   "id": "aacae0e5",
   "metadata": {},
   "outputs": [
    {
     "data": {
      "text/plain": [
       "21.5"
      ]
     },
     "execution_count": 8,
     "metadata": {},
     "output_type": "execute_result"
    }
   ],
   "source": [
    "Mean"
   ]
  },
  {
   "cell_type": "code",
   "execution_count": 9,
   "id": "b82c29f1",
   "metadata": {},
   "outputs": [],
   "source": [
    "Mode=statistics.mode(Age)"
   ]
  },
  {
   "cell_type": "code",
   "execution_count": 10,
   "id": "c0cdf26b",
   "metadata": {},
   "outputs": [
    {
     "data": {
      "text/plain": [
       "20"
      ]
     },
     "execution_count": 10,
     "metadata": {},
     "output_type": "execute_result"
    }
   ],
   "source": [
    "Mode"
   ]
  },
  {
   "cell_type": "code",
   "execution_count": 14,
   "id": "39e5b89a",
   "metadata": {},
   "outputs": [],
   "source": [
    "Median=statistics.median(Age)"
   ]
  },
  {
   "cell_type": "code",
   "execution_count": 15,
   "id": "aa4f7f7f",
   "metadata": {},
   "outputs": [
    {
     "data": {
      "text/plain": [
       "21.5"
      ]
     },
     "execution_count": 15,
     "metadata": {},
     "output_type": "execute_result"
    }
   ],
   "source": [
    "Median"
   ]
  },
  {
   "cell_type": "code",
   "execution_count": null,
   "id": "f7af0f1e",
   "metadata": {},
   "outputs": [],
   "source": []
  }
 ],
 "metadata": {
  "kernelspec": {
   "display_name": "Python 3 (ipykernel)",
   "language": "python",
   "name": "python3"
  },
  "language_info": {
   "codemirror_mode": {
    "name": "ipython",
    "version": 3
   },
   "file_extension": ".py",
   "mimetype": "text/x-python",
   "name": "python",
   "nbconvert_exporter": "python",
   "pygments_lexer": "ipython3",
   "version": "3.11.5"
  }
 },
 "nbformat": 4,
 "nbformat_minor": 5
}
