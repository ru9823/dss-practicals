{
 "cells": [
  {
   "cell_type": "markdown",
   "id": "1892ba28",
   "metadata": {},
   "source": [
    "# Creation of array"
   ]
  },
  {
   "cell_type": "code",
   "execution_count": 1,
   "id": "91228d31",
   "metadata": {},
   "outputs": [],
   "source": [
    "#Name :Ruchita Anil Kamble\n",
    "#Roll no : 56\n",
    "#Sec : A\n",
    "#date : 27/07/24"
   ]
  },
  {
   "cell_type": "code",
   "execution_count": 2,
   "id": "9f7bce23",
   "metadata": {},
   "outputs": [],
   "source": [
    "#Aim:Creation of 1D, 2D and multidimensional array (Data cube/OLAP)using numpy."
   ]
  },
  {
   "cell_type": "code",
   "execution_count": 4,
   "id": "4efb0fb8",
   "metadata": {},
   "outputs": [],
   "source": [
    "import numpy as np"
   ]
  },
  {
   "cell_type": "code",
   "execution_count": 5,
   "id": "a8f41577",
   "metadata": {},
   "outputs": [],
   "source": [
    "a1=np.array([50,60,30,80,20,90])"
   ]
  },
  {
   "cell_type": "code",
   "execution_count": 6,
   "id": "e223207f",
   "metadata": {},
   "outputs": [
    {
     "data": {
      "text/plain": [
       "array([50, 60, 30, 80, 20, 90])"
      ]
     },
     "execution_count": 6,
     "metadata": {},
     "output_type": "execute_result"
    }
   ],
   "source": [
    "a1"
   ]
  },
  {
   "cell_type": "code",
   "execution_count": 7,
   "id": "a7f5dcfa",
   "metadata": {},
   "outputs": [],
   "source": [
    "a2=np.array([[50,60,30,80,20,90],[10,40,60,70,80,90]])"
   ]
  },
  {
   "cell_type": "code",
   "execution_count": 8,
   "id": "d4bd798e",
   "metadata": {},
   "outputs": [
    {
     "data": {
      "text/plain": [
       "array([[50, 60, 30, 80, 20, 90],\n",
       "       [10, 40, 60, 70, 80, 90]])"
      ]
     },
     "execution_count": 8,
     "metadata": {},
     "output_type": "execute_result"
    }
   ],
   "source": [
    "a2"
   ]
  },
  {
   "cell_type": "code",
   "execution_count": 9,
   "id": "f256974a",
   "metadata": {},
   "outputs": [],
   "source": [
    "a3=np.array([['P1','P2','P3','P4'],['AAA','BBB','CCC','DDD'],[10,20,30,40]])"
   ]
  },
  {
   "cell_type": "code",
   "execution_count": 10,
   "id": "68edc906",
   "metadata": {},
   "outputs": [
    {
     "data": {
      "text/plain": [
       "array([['P1', 'P2', 'P3', 'P4'],\n",
       "       ['AAA', 'BBB', 'CCC', 'DDD'],\n",
       "       ['10', '20', '30', '40']], dtype='<U11')"
      ]
     },
     "execution_count": 10,
     "metadata": {},
     "output_type": "execute_result"
    }
   ],
   "source": [
    "a3"
   ]
  },
  {
   "cell_type": "code",
   "execution_count": null,
   "id": "a5f4dde3",
   "metadata": {},
   "outputs": [],
   "source": []
  }
 ],
 "metadata": {
  "kernelspec": {
   "display_name": "Python 3 (ipykernel)",
   "language": "python",
   "name": "python3"
  },
  "language_info": {
   "codemirror_mode": {
    "name": "ipython",
    "version": 3
   },
   "file_extension": ".py",
   "mimetype": "text/x-python",
   "name": "python",
   "nbconvert_exporter": "python",
   "pygments_lexer": "ipython3",
   "version": "3.11.5"
  }
 },
 "nbformat": 4,
 "nbformat_minor": 5
}
